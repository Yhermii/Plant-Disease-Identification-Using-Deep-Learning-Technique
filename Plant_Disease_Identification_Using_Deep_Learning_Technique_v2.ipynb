{
  "nbformat": 4,
  "nbformat_minor": 0,
  "metadata": {
    "colab": {
      "provenance": [],
      "machine_shape": "hm",
      "gpuType": "T4"
    },
    "kernelspec": {
      "name": "python3",
      "display_name": "Python 3"
    },
    "language_info": {
      "name": "python"
    },
    "accelerator": "GPU"
  },
  "cells": [
    {
      "cell_type": "markdown",
      "source": [
        "#Building the CNN Model\n",
        "Building, training, and evaluating a Custom and pretrained CNN models. It prepares the data, defines and compiles the model, trains it with callbacks for checkpoints and learning rate adjustments, and finally evaluates and visualizes the model's performance.\n",
        "\n",
        "\n",
        "\n",
        "\n",
        "\n"
      ],
      "metadata": {
        "id": "gRY-HKuJUDEs"
      }
    },
    {
      "cell_type": "code",
      "source": [
        "# Split the data into training+validation and test sets\n",
        "train_val_df, test_df = train_test_split(dataframe, test_size=0.2, random_state=42)\n",
        "\n",
        "# Split the training+validation set into training and validation sets\n",
        "train_df, val_df = train_test_split(train_val_df, test_size=0.2, random_state=42)\n",
        "\n",
        "# Display the shapes of the resulting DataFrames\n",
        "print(f\"Training set shape: {train_df.shape}\")\n",
        "print(f\"Validation set shape: {val_df.shape}\")\n",
        "print(f\"Test set shape: {test_df.shape}\")\n"
      ],
      "metadata": {
        "colab": {
          "base_uri": "https://localhost:8080/"
        },
        "id": "WkfiTPtJ1qQu",
        "outputId": "440d16ed-b1db-457b-942b-ee642a13950e"
      },
      "execution_count": null,
      "outputs": [
        {
          "output_type": "stream",
          "name": "stdout",
          "text": [
            "Training set shape: (37068, 2)\n",
            "Validation set shape: (9268, 2)\n",
            "Test set shape: (11584, 2)\n"
          ]
        }
      ]
    },
    {
      "cell_type": "code",
      "source": [
        "# Define target size\n",
        "target_size = (64, 64)\n",
        "\n",
        "# Load and preprocess images\n",
        "X_train, y_train = load_and_preprocess_images(train_df, target_size)\n",
        "X_val, y_val = load_and_preprocess_images(val_df, target_size)\n",
        "X_test, y_test = load_and_preprocess_images(test_df, target_size)\n"
      ],
      "metadata": {
        "id": "c8OvhOzR_TWJ"
      },
      "execution_count": null,
      "outputs": []
    },
    {
      "cell_type": "code",
      "source": [
        "# One-hot encode labels\n",
        "lb = LabelBinarizer()\n",
        "lb.fit(train_df['label'])  # Fit on training labels\n",
        "y_train = lb.transform(y_train)\n",
        "y_val = lb.transform(y_val)\n",
        "y_test = lb.transform(y_test)"
      ],
      "metadata": {
        "id": "o8jm1j4BAsXw"
      },
      "execution_count": null,
      "outputs": []
    },
    {
      "cell_type": "code",
      "source": [
        "# Determine number of classes\n",
        "num_classes = len(lb.classes_)\n",
        "\n",
        "# Define the model\n",
        "inp = layers.Input(shape=(64, 64, 3), dtype='float32', name='Input')\n",
        "\n",
        "conv0 = layers.Conv2D(16, (3, 3), activation='relu', strides=2, padding='same', name='Conv0')(inp)\n",
        "drop1 = layers.Dropout(0.2, name='Drop1')(conv0)\n",
        "\n",
        "conv1 = layers.Conv2D(32, (3, 3), activation='relu', padding='same', name='Conv1')(drop1)\n",
        "conv2 = layers.Conv2D(32, (3, 3), activation='relu', padding='same', name='Conv2')(conv1)\n",
        "drop2 = layers.Dropout(0.2, name='Drop2')(conv2)\n",
        "\n",
        "pool1 = layers.MaxPooling2D((2, 2), name='Pool1')(drop2)\n",
        "\n",
        "conv3 = layers.Conv2D(64, (3, 3), activation='relu', padding='same', name='Conv3')(pool1)\n",
        "conv4 = layers.Conv2D(64, (3, 3), activation='relu', padding='same', name='Conv4')(conv3)\n",
        "drop3 = layers.Dropout(0.2, name='Drop3')(conv4)\n",
        "\n",
        "pool2 = layers.MaxPooling2D((2, 2), name='Pool2')(drop3)\n",
        "\n",
        "conv5 = layers.Conv2D(128, (3, 3), activation='relu', padding='same', name='Conv5')(pool2)\n",
        "conv6 = layers.Conv2D(128, (3, 3), activation='relu', padding='same', name='Conv6')(conv5)\n",
        "drop4 = layers.Dropout(0.2, name='Drop4')(conv6)\n",
        "\n",
        "pool3 = layers.MaxPooling2D((2, 2), name='Pool3')(drop4)\n",
        "\n",
        "flatten = layers.Flatten(name='Flat')(pool3)\n",
        "\n",
        "fc1 = layers.Dense(512, activation='relu', name='FC1')(flatten)\n",
        "drop5 = layers.Dropout(0.5, name='Drop5')(fc1)\n",
        "\n",
        "fc2 = layers.Dense(256, activation='relu', name='FC2')(drop5)\n",
        "drop6 = layers.Dropout(0.5, name='Drop6')(fc2)\n",
        "\n",
        "out = layers.Dense(num_classes, activation='sigmoid', name='Output')(drop6)\n",
        "\n",
        "model = models.Model(inputs=inp, outputs=out)\n",
        "\n",
        "# Compile the model\n",
        "model.compile(optimizer=tf.keras.optimizers.Adam(learning_rate=1e-4),\n",
        "              loss=tf.keras.losses.binary_crossentropy,\n",
        "              metrics=['accuracy', tf.keras.metrics.Precision(), tf.keras.metrics.Recall()])\n",
        "\n",
        "# Summary of the model\n",
        "model.summary()\n"
      ],
      "metadata": {
        "colab": {
          "base_uri": "https://localhost:8080/",
          "height": 826
        },
        "id": "hMr_ZnJY3kzx",
        "outputId": "52e47102-6694-453a-e7d6-e6ca0c166f69"
      },
      "execution_count": null,
      "outputs": [
        {
          "output_type": "display_data",
          "data": {
            "text/plain": [
              "\u001b[1mModel: \"functional\"\u001b[0m\n"
            ],
            "text/html": [
              "<pre style=\"white-space:pre;overflow-x:auto;line-height:normal;font-family:Menlo,'DejaVu Sans Mono',consolas,'Courier New',monospace\"><span style=\"font-weight: bold\">Model: \"functional\"</span>\n",
              "</pre>\n"
            ]
          },
          "metadata": {}
        },
        {
          "output_type": "display_data",
          "data": {
            "text/plain": [
              "┏━━━━━━━━━━━━━━━━━━━━━━━━━━━━━━━━━━━━━━┳━━━━━━━━━━━━━━━━━━━━━━━━━━━━━┳━━━━━━━━━━━━━━━━━┓\n",
              "┃\u001b[1m \u001b[0m\u001b[1mLayer (type)                        \u001b[0m\u001b[1m \u001b[0m┃\u001b[1m \u001b[0m\u001b[1mOutput Shape               \u001b[0m\u001b[1m \u001b[0m┃\u001b[1m \u001b[0m\u001b[1m        Param #\u001b[0m\u001b[1m \u001b[0m┃\n",
              "┡━━━━━━━━━━━━━━━━━━━━━━━━━━━━━━━━━━━━━━╇━━━━━━━━━━━━━━━━━━━━━━━━━━━━━╇━━━━━━━━━━━━━━━━━┩\n",
              "│ Input (\u001b[38;5;33mInputLayer\u001b[0m)                   │ (\u001b[38;5;45mNone\u001b[0m, \u001b[38;5;34m64\u001b[0m, \u001b[38;5;34m64\u001b[0m, \u001b[38;5;34m3\u001b[0m)           │               \u001b[38;5;34m0\u001b[0m │\n",
              "├──────────────────────────────────────┼─────────────────────────────┼─────────────────┤\n",
              "│ Conv0 (\u001b[38;5;33mConv2D\u001b[0m)                       │ (\u001b[38;5;45mNone\u001b[0m, \u001b[38;5;34m32\u001b[0m, \u001b[38;5;34m32\u001b[0m, \u001b[38;5;34m16\u001b[0m)          │             \u001b[38;5;34m448\u001b[0m │\n",
              "├──────────────────────────────────────┼─────────────────────────────┼─────────────────┤\n",
              "│ Drop1 (\u001b[38;5;33mDropout\u001b[0m)                      │ (\u001b[38;5;45mNone\u001b[0m, \u001b[38;5;34m32\u001b[0m, \u001b[38;5;34m32\u001b[0m, \u001b[38;5;34m16\u001b[0m)          │               \u001b[38;5;34m0\u001b[0m │\n",
              "├──────────────────────────────────────┼─────────────────────────────┼─────────────────┤\n",
              "│ Conv1 (\u001b[38;5;33mConv2D\u001b[0m)                       │ (\u001b[38;5;45mNone\u001b[0m, \u001b[38;5;34m32\u001b[0m, \u001b[38;5;34m32\u001b[0m, \u001b[38;5;34m32\u001b[0m)          │           \u001b[38;5;34m4,640\u001b[0m │\n",
              "├──────────────────────────────────────┼─────────────────────────────┼─────────────────┤\n",
              "│ Conv2 (\u001b[38;5;33mConv2D\u001b[0m)                       │ (\u001b[38;5;45mNone\u001b[0m, \u001b[38;5;34m32\u001b[0m, \u001b[38;5;34m32\u001b[0m, \u001b[38;5;34m32\u001b[0m)          │           \u001b[38;5;34m9,248\u001b[0m │\n",
              "├──────────────────────────────────────┼─────────────────────────────┼─────────────────┤\n",
              "│ Drop2 (\u001b[38;5;33mDropout\u001b[0m)                      │ (\u001b[38;5;45mNone\u001b[0m, \u001b[38;5;34m32\u001b[0m, \u001b[38;5;34m32\u001b[0m, \u001b[38;5;34m32\u001b[0m)          │               \u001b[38;5;34m0\u001b[0m │\n",
              "├──────────────────────────────────────┼─────────────────────────────┼─────────────────┤\n",
              "│ Pool1 (\u001b[38;5;33mMaxPooling2D\u001b[0m)                 │ (\u001b[38;5;45mNone\u001b[0m, \u001b[38;5;34m16\u001b[0m, \u001b[38;5;34m16\u001b[0m, \u001b[38;5;34m32\u001b[0m)          │               \u001b[38;5;34m0\u001b[0m │\n",
              "├──────────────────────────────────────┼─────────────────────────────┼─────────────────┤\n",
              "│ Conv3 (\u001b[38;5;33mConv2D\u001b[0m)                       │ (\u001b[38;5;45mNone\u001b[0m, \u001b[38;5;34m16\u001b[0m, \u001b[38;5;34m16\u001b[0m, \u001b[38;5;34m64\u001b[0m)          │          \u001b[38;5;34m18,496\u001b[0m │\n",
              "├──────────────────────────────────────┼─────────────────────────────┼─────────────────┤\n",
              "│ Conv4 (\u001b[38;5;33mConv2D\u001b[0m)                       │ (\u001b[38;5;45mNone\u001b[0m, \u001b[38;5;34m16\u001b[0m, \u001b[38;5;34m16\u001b[0m, \u001b[38;5;34m64\u001b[0m)          │          \u001b[38;5;34m36,928\u001b[0m │\n",
              "├──────────────────────────────────────┼─────────────────────────────┼─────────────────┤\n",
              "│ Drop3 (\u001b[38;5;33mDropout\u001b[0m)                      │ (\u001b[38;5;45mNone\u001b[0m, \u001b[38;5;34m16\u001b[0m, \u001b[38;5;34m16\u001b[0m, \u001b[38;5;34m64\u001b[0m)          │               \u001b[38;5;34m0\u001b[0m │\n",
              "├──────────────────────────────────────┼─────────────────────────────┼─────────────────┤\n",
              "│ Pool2 (\u001b[38;5;33mMaxPooling2D\u001b[0m)                 │ (\u001b[38;5;45mNone\u001b[0m, \u001b[38;5;34m8\u001b[0m, \u001b[38;5;34m8\u001b[0m, \u001b[38;5;34m64\u001b[0m)            │               \u001b[38;5;34m0\u001b[0m │\n",
              "├──────────────────────────────────────┼─────────────────────────────┼─────────────────┤\n",
              "│ Conv5 (\u001b[38;5;33mConv2D\u001b[0m)                       │ (\u001b[38;5;45mNone\u001b[0m, \u001b[38;5;34m8\u001b[0m, \u001b[38;5;34m8\u001b[0m, \u001b[38;5;34m128\u001b[0m)           │          \u001b[38;5;34m73,856\u001b[0m │\n",
              "├──────────────────────────────────────┼─────────────────────────────┼─────────────────┤\n",
              "│ Conv6 (\u001b[38;5;33mConv2D\u001b[0m)                       │ (\u001b[38;5;45mNone\u001b[0m, \u001b[38;5;34m8\u001b[0m, \u001b[38;5;34m8\u001b[0m, \u001b[38;5;34m128\u001b[0m)           │         \u001b[38;5;34m147,584\u001b[0m │\n",
              "├──────────────────────────────────────┼─────────────────────────────┼─────────────────┤\n",
              "│ Drop4 (\u001b[38;5;33mDropout\u001b[0m)                      │ (\u001b[38;5;45mNone\u001b[0m, \u001b[38;5;34m8\u001b[0m, \u001b[38;5;34m8\u001b[0m, \u001b[38;5;34m128\u001b[0m)           │               \u001b[38;5;34m0\u001b[0m │\n",
              "├──────────────────────────────────────┼─────────────────────────────┼─────────────────┤\n",
              "│ Pool3 (\u001b[38;5;33mMaxPooling2D\u001b[0m)                 │ (\u001b[38;5;45mNone\u001b[0m, \u001b[38;5;34m4\u001b[0m, \u001b[38;5;34m4\u001b[0m, \u001b[38;5;34m128\u001b[0m)           │               \u001b[38;5;34m0\u001b[0m │\n",
              "├──────────────────────────────────────┼─────────────────────────────┼─────────────────┤\n",
              "│ Flat (\u001b[38;5;33mFlatten\u001b[0m)                       │ (\u001b[38;5;45mNone\u001b[0m, \u001b[38;5;34m2048\u001b[0m)                │               \u001b[38;5;34m0\u001b[0m │\n",
              "├──────────────────────────────────────┼─────────────────────────────┼─────────────────┤\n",
              "│ FC1 (\u001b[38;5;33mDense\u001b[0m)                          │ (\u001b[38;5;45mNone\u001b[0m, \u001b[38;5;34m512\u001b[0m)                 │       \u001b[38;5;34m1,049,088\u001b[0m │\n",
              "├──────────────────────────────────────┼─────────────────────────────┼─────────────────┤\n",
              "│ Drop5 (\u001b[38;5;33mDropout\u001b[0m)                      │ (\u001b[38;5;45mNone\u001b[0m, \u001b[38;5;34m512\u001b[0m)                 │               \u001b[38;5;34m0\u001b[0m │\n",
              "├──────────────────────────────────────┼─────────────────────────────┼─────────────────┤\n",
              "│ FC2 (\u001b[38;5;33mDense\u001b[0m)                          │ (\u001b[38;5;45mNone\u001b[0m, \u001b[38;5;34m256\u001b[0m)                 │         \u001b[38;5;34m131,328\u001b[0m │\n",
              "├──────────────────────────────────────┼─────────────────────────────┼─────────────────┤\n",
              "│ Drop6 (\u001b[38;5;33mDropout\u001b[0m)                      │ (\u001b[38;5;45mNone\u001b[0m, \u001b[38;5;34m256\u001b[0m)                 │               \u001b[38;5;34m0\u001b[0m │\n",
              "├──────────────────────────────────────┼─────────────────────────────┼─────────────────┤\n",
              "│ Output (\u001b[38;5;33mDense\u001b[0m)                       │ (\u001b[38;5;45mNone\u001b[0m, \u001b[38;5;34m39\u001b[0m)                  │          \u001b[38;5;34m10,023\u001b[0m │\n",
              "└──────────────────────────────────────┴─────────────────────────────┴─────────────────┘\n"
            ],
            "text/html": [
              "<pre style=\"white-space:pre;overflow-x:auto;line-height:normal;font-family:Menlo,'DejaVu Sans Mono',consolas,'Courier New',monospace\">┏━━━━━━━━━━━━━━━━━━━━━━━━━━━━━━━━━━━━━━┳━━━━━━━━━━━━━━━━━━━━━━━━━━━━━┳━━━━━━━━━━━━━━━━━┓\n",
              "┃<span style=\"font-weight: bold\"> Layer (type)                         </span>┃<span style=\"font-weight: bold\"> Output Shape                </span>┃<span style=\"font-weight: bold\">         Param # </span>┃\n",
              "┡━━━━━━━━━━━━━━━━━━━━━━━━━━━━━━━━━━━━━━╇━━━━━━━━━━━━━━━━━━━━━━━━━━━━━╇━━━━━━━━━━━━━━━━━┩\n",
              "│ Input (<span style=\"color: #0087ff; text-decoration-color: #0087ff\">InputLayer</span>)                   │ (<span style=\"color: #00d7ff; text-decoration-color: #00d7ff\">None</span>, <span style=\"color: #00af00; text-decoration-color: #00af00\">64</span>, <span style=\"color: #00af00; text-decoration-color: #00af00\">64</span>, <span style=\"color: #00af00; text-decoration-color: #00af00\">3</span>)           │               <span style=\"color: #00af00; text-decoration-color: #00af00\">0</span> │\n",
              "├──────────────────────────────────────┼─────────────────────────────┼─────────────────┤\n",
              "│ Conv0 (<span style=\"color: #0087ff; text-decoration-color: #0087ff\">Conv2D</span>)                       │ (<span style=\"color: #00d7ff; text-decoration-color: #00d7ff\">None</span>, <span style=\"color: #00af00; text-decoration-color: #00af00\">32</span>, <span style=\"color: #00af00; text-decoration-color: #00af00\">32</span>, <span style=\"color: #00af00; text-decoration-color: #00af00\">16</span>)          │             <span style=\"color: #00af00; text-decoration-color: #00af00\">448</span> │\n",
              "├──────────────────────────────────────┼─────────────────────────────┼─────────────────┤\n",
              "│ Drop1 (<span style=\"color: #0087ff; text-decoration-color: #0087ff\">Dropout</span>)                      │ (<span style=\"color: #00d7ff; text-decoration-color: #00d7ff\">None</span>, <span style=\"color: #00af00; text-decoration-color: #00af00\">32</span>, <span style=\"color: #00af00; text-decoration-color: #00af00\">32</span>, <span style=\"color: #00af00; text-decoration-color: #00af00\">16</span>)          │               <span style=\"color: #00af00; text-decoration-color: #00af00\">0</span> │\n",
              "├──────────────────────────────────────┼─────────────────────────────┼─────────────────┤\n",
              "│ Conv1 (<span style=\"color: #0087ff; text-decoration-color: #0087ff\">Conv2D</span>)                       │ (<span style=\"color: #00d7ff; text-decoration-color: #00d7ff\">None</span>, <span style=\"color: #00af00; text-decoration-color: #00af00\">32</span>, <span style=\"color: #00af00; text-decoration-color: #00af00\">32</span>, <span style=\"color: #00af00; text-decoration-color: #00af00\">32</span>)          │           <span style=\"color: #00af00; text-decoration-color: #00af00\">4,640</span> │\n",
              "├──────────────────────────────────────┼─────────────────────────────┼─────────────────┤\n",
              "│ Conv2 (<span style=\"color: #0087ff; text-decoration-color: #0087ff\">Conv2D</span>)                       │ (<span style=\"color: #00d7ff; text-decoration-color: #00d7ff\">None</span>, <span style=\"color: #00af00; text-decoration-color: #00af00\">32</span>, <span style=\"color: #00af00; text-decoration-color: #00af00\">32</span>, <span style=\"color: #00af00; text-decoration-color: #00af00\">32</span>)          │           <span style=\"color: #00af00; text-decoration-color: #00af00\">9,248</span> │\n",
              "├──────────────────────────────────────┼─────────────────────────────┼─────────────────┤\n",
              "│ Drop2 (<span style=\"color: #0087ff; text-decoration-color: #0087ff\">Dropout</span>)                      │ (<span style=\"color: #00d7ff; text-decoration-color: #00d7ff\">None</span>, <span style=\"color: #00af00; text-decoration-color: #00af00\">32</span>, <span style=\"color: #00af00; text-decoration-color: #00af00\">32</span>, <span style=\"color: #00af00; text-decoration-color: #00af00\">32</span>)          │               <span style=\"color: #00af00; text-decoration-color: #00af00\">0</span> │\n",
              "├──────────────────────────────────────┼─────────────────────────────┼─────────────────┤\n",
              "│ Pool1 (<span style=\"color: #0087ff; text-decoration-color: #0087ff\">MaxPooling2D</span>)                 │ (<span style=\"color: #00d7ff; text-decoration-color: #00d7ff\">None</span>, <span style=\"color: #00af00; text-decoration-color: #00af00\">16</span>, <span style=\"color: #00af00; text-decoration-color: #00af00\">16</span>, <span style=\"color: #00af00; text-decoration-color: #00af00\">32</span>)          │               <span style=\"color: #00af00; text-decoration-color: #00af00\">0</span> │\n",
              "├──────────────────────────────────────┼─────────────────────────────┼─────────────────┤\n",
              "│ Conv3 (<span style=\"color: #0087ff; text-decoration-color: #0087ff\">Conv2D</span>)                       │ (<span style=\"color: #00d7ff; text-decoration-color: #00d7ff\">None</span>, <span style=\"color: #00af00; text-decoration-color: #00af00\">16</span>, <span style=\"color: #00af00; text-decoration-color: #00af00\">16</span>, <span style=\"color: #00af00; text-decoration-color: #00af00\">64</span>)          │          <span style=\"color: #00af00; text-decoration-color: #00af00\">18,496</span> │\n",
              "├──────────────────────────────────────┼─────────────────────────────┼─────────────────┤\n",
              "│ Conv4 (<span style=\"color: #0087ff; text-decoration-color: #0087ff\">Conv2D</span>)                       │ (<span style=\"color: #00d7ff; text-decoration-color: #00d7ff\">None</span>, <span style=\"color: #00af00; text-decoration-color: #00af00\">16</span>, <span style=\"color: #00af00; text-decoration-color: #00af00\">16</span>, <span style=\"color: #00af00; text-decoration-color: #00af00\">64</span>)          │          <span style=\"color: #00af00; text-decoration-color: #00af00\">36,928</span> │\n",
              "├──────────────────────────────────────┼─────────────────────────────┼─────────────────┤\n",
              "│ Drop3 (<span style=\"color: #0087ff; text-decoration-color: #0087ff\">Dropout</span>)                      │ (<span style=\"color: #00d7ff; text-decoration-color: #00d7ff\">None</span>, <span style=\"color: #00af00; text-decoration-color: #00af00\">16</span>, <span style=\"color: #00af00; text-decoration-color: #00af00\">16</span>, <span style=\"color: #00af00; text-decoration-color: #00af00\">64</span>)          │               <span style=\"color: #00af00; text-decoration-color: #00af00\">0</span> │\n",
              "├──────────────────────────────────────┼─────────────────────────────┼─────────────────┤\n",
              "│ Pool2 (<span style=\"color: #0087ff; text-decoration-color: #0087ff\">MaxPooling2D</span>)                 │ (<span style=\"color: #00d7ff; text-decoration-color: #00d7ff\">None</span>, <span style=\"color: #00af00; text-decoration-color: #00af00\">8</span>, <span style=\"color: #00af00; text-decoration-color: #00af00\">8</span>, <span style=\"color: #00af00; text-decoration-color: #00af00\">64</span>)            │               <span style=\"color: #00af00; text-decoration-color: #00af00\">0</span> │\n",
              "├──────────────────────────────────────┼─────────────────────────────┼─────────────────┤\n",
              "│ Conv5 (<span style=\"color: #0087ff; text-decoration-color: #0087ff\">Conv2D</span>)                       │ (<span style=\"color: #00d7ff; text-decoration-color: #00d7ff\">None</span>, <span style=\"color: #00af00; text-decoration-color: #00af00\">8</span>, <span style=\"color: #00af00; text-decoration-color: #00af00\">8</span>, <span style=\"color: #00af00; text-decoration-color: #00af00\">128</span>)           │          <span style=\"color: #00af00; text-decoration-color: #00af00\">73,856</span> │\n",
              "├──────────────────────────────────────┼─────────────────────────────┼─────────────────┤\n",
              "│ Conv6 (<span style=\"color: #0087ff; text-decoration-color: #0087ff\">Conv2D</span>)                       │ (<span style=\"color: #00d7ff; text-decoration-color: #00d7ff\">None</span>, <span style=\"color: #00af00; text-decoration-color: #00af00\">8</span>, <span style=\"color: #00af00; text-decoration-color: #00af00\">8</span>, <span style=\"color: #00af00; text-decoration-color: #00af00\">128</span>)           │         <span style=\"color: #00af00; text-decoration-color: #00af00\">147,584</span> │\n",
              "├──────────────────────────────────────┼─────────────────────────────┼─────────────────┤\n",
              "│ Drop4 (<span style=\"color: #0087ff; text-decoration-color: #0087ff\">Dropout</span>)                      │ (<span style=\"color: #00d7ff; text-decoration-color: #00d7ff\">None</span>, <span style=\"color: #00af00; text-decoration-color: #00af00\">8</span>, <span style=\"color: #00af00; text-decoration-color: #00af00\">8</span>, <span style=\"color: #00af00; text-decoration-color: #00af00\">128</span>)           │               <span style=\"color: #00af00; text-decoration-color: #00af00\">0</span> │\n",
              "├──────────────────────────────────────┼─────────────────────────────┼─────────────────┤\n",
              "│ Pool3 (<span style=\"color: #0087ff; text-decoration-color: #0087ff\">MaxPooling2D</span>)                 │ (<span style=\"color: #00d7ff; text-decoration-color: #00d7ff\">None</span>, <span style=\"color: #00af00; text-decoration-color: #00af00\">4</span>, <span style=\"color: #00af00; text-decoration-color: #00af00\">4</span>, <span style=\"color: #00af00; text-decoration-color: #00af00\">128</span>)           │               <span style=\"color: #00af00; text-decoration-color: #00af00\">0</span> │\n",
              "├──────────────────────────────────────┼─────────────────────────────┼─────────────────┤\n",
              "│ Flat (<span style=\"color: #0087ff; text-decoration-color: #0087ff\">Flatten</span>)                       │ (<span style=\"color: #00d7ff; text-decoration-color: #00d7ff\">None</span>, <span style=\"color: #00af00; text-decoration-color: #00af00\">2048</span>)                │               <span style=\"color: #00af00; text-decoration-color: #00af00\">0</span> │\n",
              "├──────────────────────────────────────┼─────────────────────────────┼─────────────────┤\n",
              "│ FC1 (<span style=\"color: #0087ff; text-decoration-color: #0087ff\">Dense</span>)                          │ (<span style=\"color: #00d7ff; text-decoration-color: #00d7ff\">None</span>, <span style=\"color: #00af00; text-decoration-color: #00af00\">512</span>)                 │       <span style=\"color: #00af00; text-decoration-color: #00af00\">1,049,088</span> │\n",
              "├──────────────────────────────────────┼─────────────────────────────┼─────────────────┤\n",
              "│ Drop5 (<span style=\"color: #0087ff; text-decoration-color: #0087ff\">Dropout</span>)                      │ (<span style=\"color: #00d7ff; text-decoration-color: #00d7ff\">None</span>, <span style=\"color: #00af00; text-decoration-color: #00af00\">512</span>)                 │               <span style=\"color: #00af00; text-decoration-color: #00af00\">0</span> │\n",
              "├──────────────────────────────────────┼─────────────────────────────┼─────────────────┤\n",
              "│ FC2 (<span style=\"color: #0087ff; text-decoration-color: #0087ff\">Dense</span>)                          │ (<span style=\"color: #00d7ff; text-decoration-color: #00d7ff\">None</span>, <span style=\"color: #00af00; text-decoration-color: #00af00\">256</span>)                 │         <span style=\"color: #00af00; text-decoration-color: #00af00\">131,328</span> │\n",
              "├──────────────────────────────────────┼─────────────────────────────┼─────────────────┤\n",
              "│ Drop6 (<span style=\"color: #0087ff; text-decoration-color: #0087ff\">Dropout</span>)                      │ (<span style=\"color: #00d7ff; text-decoration-color: #00d7ff\">None</span>, <span style=\"color: #00af00; text-decoration-color: #00af00\">256</span>)                 │               <span style=\"color: #00af00; text-decoration-color: #00af00\">0</span> │\n",
              "├──────────────────────────────────────┼─────────────────────────────┼─────────────────┤\n",
              "│ Output (<span style=\"color: #0087ff; text-decoration-color: #0087ff\">Dense</span>)                       │ (<span style=\"color: #00d7ff; text-decoration-color: #00d7ff\">None</span>, <span style=\"color: #00af00; text-decoration-color: #00af00\">39</span>)                  │          <span style=\"color: #00af00; text-decoration-color: #00af00\">10,023</span> │\n",
              "└──────────────────────────────────────┴─────────────────────────────┴─────────────────┘\n",
              "</pre>\n"
            ]
          },
          "metadata": {}
        },
        {
          "output_type": "display_data",
          "data": {
            "text/plain": [
              "\u001b[1m Total params: \u001b[0m\u001b[38;5;34m1,481,639\u001b[0m (5.65 MB)\n"
            ],
            "text/html": [
              "<pre style=\"white-space:pre;overflow-x:auto;line-height:normal;font-family:Menlo,'DejaVu Sans Mono',consolas,'Courier New',monospace\"><span style=\"font-weight: bold\"> Total params: </span><span style=\"color: #00af00; text-decoration-color: #00af00\">1,481,639</span> (5.65 MB)\n",
              "</pre>\n"
            ]
          },
          "metadata": {}
        },
        {
          "output_type": "display_data",
          "data": {
            "text/plain": [
              "\u001b[1m Trainable params: \u001b[0m\u001b[38;5;34m1,481,639\u001b[0m (5.65 MB)\n"
            ],
            "text/html": [
              "<pre style=\"white-space:pre;overflow-x:auto;line-height:normal;font-family:Menlo,'DejaVu Sans Mono',consolas,'Courier New',monospace\"><span style=\"font-weight: bold\"> Trainable params: </span><span style=\"color: #00af00; text-decoration-color: #00af00\">1,481,639</span> (5.65 MB)\n",
              "</pre>\n"
            ]
          },
          "metadata": {}
        },
        {
          "output_type": "display_data",
          "data": {
            "text/plain": [
              "\u001b[1m Non-trainable params: \u001b[0m\u001b[38;5;34m0\u001b[0m (0.00 B)\n"
            ],
            "text/html": [
              "<pre style=\"white-space:pre;overflow-x:auto;line-height:normal;font-family:Menlo,'DejaVu Sans Mono',consolas,'Courier New',monospace\"><span style=\"font-weight: bold\"> Non-trainable params: </span><span style=\"color: #00af00; text-decoration-color: #00af00\">0</span> (0.00 B)\n",
              "</pre>\n"
            ]
          },
          "metadata": {}
        }
      ]
    },
    {
      "cell_type": "code",
      "source": [
        "# Compile the model\n",
        "model.compile(optimizer=tf.keras.optimizers.Adam(learning_rate=1e-4),\n",
        "              loss='binary_crossentropy',\n",
        "              metrics=['accuracy', tf.keras.metrics.Precision(), tf.keras.metrics.Recall()])"
      ],
      "metadata": {
        "id": "Dccpht9B30sC"
      },
      "execution_count": null,
      "outputs": []
    },
    {
      "cell_type": "code",
      "source": [
        "# Define callbacks\n",
        "checkpoint_filepath = '/content/checkpoints/best_weights.weights.h5'\n",
        "checkpoint_callback = ModelCheckpoint(\n",
        "    filepath=checkpoint_filepath,\n",
        "    monitor='val_loss',\n",
        "    save_best_only=True,\n",
        "    save_weights_only=True,\n",
        "    mode='min',\n",
        "    verbose=1\n",
        ")\n",
        "\n",
        "def scheduler(epoch, lr):\n",
        "    if epoch < 10:\n",
        "        return float(lr)\n",
        "    else:\n",
        "        return float(lr * tf.math.exp(-0.01))\n",
        "\n",
        "lr_callback = LearningRateScheduler(scheduler)"
      ],
      "metadata": {
        "id": "5hKlR3_G57ER"
      },
      "execution_count": null,
      "outputs": []
    },
    {
      "cell_type": "code",
      "source": [
        "# Train the model\n",
        "history = model.fit(\n",
        "    X_train,\n",
        "    y_train,\n",
        "    validation_data=(X_val, y_val),\n",
        "    epochs=50,\n",
        "    callbacks=[checkpoint_callback, lr_callback],\n",
        "    batch_size=32\n",
        ")\n",
        "\n",
        "# Load the best weights\n",
        "model.load_weights(checkpoint_filepath)"
      ],
      "metadata": {
        "colab": {
          "base_uri": "https://localhost:8080/"
        },
        "id": "fy8msQ1P5-2v",
        "outputId": "8b1d33d4-756f-468c-f82b-896973712083"
      },
      "execution_count": null,
      "outputs": [
        {
          "output_type": "stream",
          "name": "stdout",
          "text": [
            "Epoch 1/50\n",
            "\u001b[1m1159/1159\u001b[0m \u001b[32m━━━━━━━━━━━━━━━━━━━━\u001b[0m\u001b[37m\u001b[0m \u001b[1m0s\u001b[0m 10ms/step - accuracy: 0.0818 - loss: 0.2734 - precision_1: 0.0595 - recall_1: 0.1015\n",
            "Epoch 1: val_loss improved from inf to 0.11002, saving model to /content/checkpoints/best_weights.weights.h5\n",
            "\u001b[1m1159/1159\u001b[0m \u001b[32m━━━━━━━━━━━━━━━━━━━━\u001b[0m\u001b[37m\u001b[0m \u001b[1m27s\u001b[0m 14ms/step - accuracy: 0.0819 - loss: 0.2733 - precision_1: 0.0596 - recall_1: 0.1015 - val_accuracy: 0.4274 - val_loss: 0.1100 - val_precision_1: 0.8067 - val_recall_1: 0.2324 - learning_rate: 1.0000e-04\n",
            "Epoch 2/50\n",
            "\u001b[1m1156/1159\u001b[0m \u001b[32m━━━━━━━━━━━━━━━━━━━\u001b[0m\u001b[37m━\u001b[0m \u001b[1m0s\u001b[0m 5ms/step - accuracy: 0.3657 - loss: 0.0920 - precision_1: 0.6603 - recall_1: 0.2436\n",
            "Epoch 2: val_loss improved from 0.11002 to 0.08527, saving model to /content/checkpoints/best_weights.weights.h5\n",
            "\u001b[1m1159/1159\u001b[0m \u001b[32m━━━━━━━━━━━━━━━━━━━━\u001b[0m\u001b[37m\u001b[0m \u001b[1m7s\u001b[0m 6ms/step - accuracy: 0.3658 - loss: 0.0919 - precision_1: 0.6604 - recall_1: 0.2438 - val_accuracy: 0.5709 - val_loss: 0.0853 - val_precision_1: 0.8137 - val_recall_1: 0.3708 - learning_rate: 1.0000e-04\n",
            "Epoch 3/50\n",
            "\u001b[1m1158/1159\u001b[0m \u001b[32m━━━━━━━━━━━━━━━━━━━\u001b[0m\u001b[37m━\u001b[0m \u001b[1m0s\u001b[0m 5ms/step - accuracy: 0.5319 - loss: 0.0674 - precision_1: 0.7436 - recall_1: 0.3906\n",
            "Epoch 3: val_loss improved from 0.08527 to 0.06885, saving model to /content/checkpoints/best_weights.weights.h5\n",
            "\u001b[1m1159/1159\u001b[0m \u001b[32m━━━━━━━━━━━━━━━━━━━━\u001b[0m\u001b[37m\u001b[0m \u001b[1m7s\u001b[0m 6ms/step - accuracy: 0.5320 - loss: 0.0674 - precision_1: 0.7436 - recall_1: 0.3907 - val_accuracy: 0.6929 - val_loss: 0.0688 - val_precision_1: 0.8455 - val_recall_1: 0.5508 - learning_rate: 1.0000e-04\n",
            "Epoch 4/50\n",
            "\u001b[1m1151/1159\u001b[0m \u001b[32m━━━━━━━━━━━━━━━━━━━\u001b[0m\u001b[37m━\u001b[0m \u001b[1m0s\u001b[0m 5ms/step - accuracy: 0.6367 - loss: 0.0530 - precision_1: 0.7965 - recall_1: 0.5033\n",
            "Epoch 4: val_loss improved from 0.06885 to 0.05396, saving model to /content/checkpoints/best_weights.weights.h5\n",
            "\u001b[1m1159/1159\u001b[0m \u001b[32m━━━━━━━━━━━━━━━━━━━━\u001b[0m\u001b[37m\u001b[0m \u001b[1m7s\u001b[0m 6ms/step - accuracy: 0.6368 - loss: 0.0530 - precision_1: 0.7965 - recall_1: 0.5034 - val_accuracy: 0.7489 - val_loss: 0.0540 - val_precision_1: 0.8563 - val_recall_1: 0.6448 - learning_rate: 1.0000e-04\n",
            "Epoch 5/50\n",
            "\u001b[1m1150/1159\u001b[0m \u001b[32m━━━━━━━━━━━━━━━━━━━\u001b[0m\u001b[37m━\u001b[0m \u001b[1m0s\u001b[0m 5ms/step - accuracy: 0.7044 - loss: 0.0438 - precision_1: 0.8306 - recall_1: 0.5867\n",
            "Epoch 5: val_loss improved from 0.05396 to 0.04692, saving model to /content/checkpoints/best_weights.weights.h5\n",
            "\u001b[1m1159/1159\u001b[0m \u001b[32m━━━━━━━━━━━━━━━━━━━━\u001b[0m\u001b[37m\u001b[0m \u001b[1m7s\u001b[0m 6ms/step - accuracy: 0.7044 - loss: 0.0438 - precision_1: 0.8307 - recall_1: 0.5868 - val_accuracy: 0.7972 - val_loss: 0.0469 - val_precision_1: 0.8778 - val_recall_1: 0.7087 - learning_rate: 1.0000e-04\n",
            "Epoch 6/50\n",
            "\u001b[1m1151/1159\u001b[0m \u001b[32m━━━━━━━━━━━━━━━━━━━\u001b[0m\u001b[37m━\u001b[0m \u001b[1m0s\u001b[0m 5ms/step - accuracy: 0.7456 - loss: 0.0378 - precision_1: 0.8477 - recall_1: 0.6372\n",
            "Epoch 6: val_loss improved from 0.04692 to 0.04127, saving model to /content/checkpoints/best_weights.weights.h5\n",
            "\u001b[1m1159/1159\u001b[0m \u001b[32m━━━━━━━━━━━━━━━━━━━━\u001b[0m\u001b[37m\u001b[0m \u001b[1m7s\u001b[0m 6ms/step - accuracy: 0.7456 - loss: 0.0378 - precision_1: 0.8477 - recall_1: 0.6372 - val_accuracy: 0.8285 - val_loss: 0.0413 - val_precision_1: 0.8923 - val_recall_1: 0.7680 - learning_rate: 1.0000e-04\n",
            "Epoch 7/50\n",
            "\u001b[1m1156/1159\u001b[0m \u001b[32m━━━━━━━━━━━━━━━━━━━\u001b[0m\u001b[37m━\u001b[0m \u001b[1m0s\u001b[0m 5ms/step - accuracy: 0.7758 - loss: 0.0332 - precision_1: 0.8649 - recall_1: 0.6817\n",
            "Epoch 7: val_loss improved from 0.04127 to 0.03681, saving model to /content/checkpoints/best_weights.weights.h5\n",
            "\u001b[1m1159/1159\u001b[0m \u001b[32m━━━━━━━━━━━━━━━━━━━━\u001b[0m\u001b[37m\u001b[0m \u001b[1m7s\u001b[0m 6ms/step - accuracy: 0.7758 - loss: 0.0332 - precision_1: 0.8649 - recall_1: 0.6817 - val_accuracy: 0.8391 - val_loss: 0.0368 - val_precision_1: 0.8895 - val_recall_1: 0.7844 - learning_rate: 1.0000e-04\n",
            "Epoch 8/50\n",
            "\u001b[1m1154/1159\u001b[0m \u001b[32m━━━━━━━━━━━━━━━━━━━\u001b[0m\u001b[37m━\u001b[0m \u001b[1m0s\u001b[0m 5ms/step - accuracy: 0.8065 - loss: 0.0290 - precision_1: 0.8762 - recall_1: 0.7215\n",
            "Epoch 8: val_loss improved from 0.03681 to 0.03153, saving model to /content/checkpoints/best_weights.weights.h5\n",
            "\u001b[1m1159/1159\u001b[0m \u001b[32m━━━━━━━━━━━━━━━━━━━━\u001b[0m\u001b[37m\u001b[0m \u001b[1m7s\u001b[0m 6ms/step - accuracy: 0.8065 - loss: 0.0290 - precision_1: 0.8762 - recall_1: 0.7215 - val_accuracy: 0.8642 - val_loss: 0.0315 - val_precision_1: 0.9028 - val_recall_1: 0.8234 - learning_rate: 1.0000e-04\n",
            "Epoch 9/50\n",
            "\u001b[1m1159/1159\u001b[0m \u001b[32m━━━━━━━━━━━━━━━━━━━━\u001b[0m\u001b[37m\u001b[0m \u001b[1m0s\u001b[0m 5ms/step - accuracy: 0.8326 - loss: 0.0259 - precision_1: 0.8919 - recall_1: 0.7533\n",
            "Epoch 9: val_loss improved from 0.03153 to 0.02806, saving model to /content/checkpoints/best_weights.weights.h5\n",
            "\u001b[1m1159/1159\u001b[0m \u001b[32m━━━━━━━━━━━━━━━━━━━━\u001b[0m\u001b[37m\u001b[0m \u001b[1m7s\u001b[0m 6ms/step - accuracy: 0.8326 - loss: 0.0259 - precision_1: 0.8919 - recall_1: 0.7533 - val_accuracy: 0.8854 - val_loss: 0.0281 - val_precision_1: 0.9129 - val_recall_1: 0.8536 - learning_rate: 1.0000e-04\n",
            "Epoch 10/50\n",
            "\u001b[1m1151/1159\u001b[0m \u001b[32m━━━━━━━━━━━━━━━━━━━\u001b[0m\u001b[37m━\u001b[0m \u001b[1m0s\u001b[0m 5ms/step - accuracy: 0.8491 - loss: 0.0228 - precision_1: 0.9012 - recall_1: 0.7848\n",
            "Epoch 10: val_loss improved from 0.02806 to 0.02606, saving model to /content/checkpoints/best_weights.weights.h5\n",
            "\u001b[1m1159/1159\u001b[0m \u001b[32m━━━━━━━━━━━━━━━━━━━━\u001b[0m\u001b[37m\u001b[0m \u001b[1m7s\u001b[0m 6ms/step - accuracy: 0.8491 - loss: 0.0228 - precision_1: 0.9012 - recall_1: 0.7849 - val_accuracy: 0.8798 - val_loss: 0.0261 - val_precision_1: 0.9114 - val_recall_1: 0.8478 - learning_rate: 1.0000e-04\n",
            "Epoch 11/50\n",
            "\u001b[1m1159/1159\u001b[0m \u001b[32m━━━━━━━━━━━━━━━━━━━━\u001b[0m\u001b[37m\u001b[0m \u001b[1m0s\u001b[0m 5ms/step - accuracy: 0.8653 - loss: 0.0208 - precision_1: 0.9076 - recall_1: 0.8012\n",
            "Epoch 11: val_loss improved from 0.02606 to 0.02276, saving model to /content/checkpoints/best_weights.weights.h5\n",
            "\u001b[1m1159/1159\u001b[0m \u001b[32m━━━━━━━━━━━━━━━━━━━━\u001b[0m\u001b[37m\u001b[0m \u001b[1m7s\u001b[0m 6ms/step - accuracy: 0.8653 - loss: 0.0208 - precision_1: 0.9076 - recall_1: 0.8012 - val_accuracy: 0.8904 - val_loss: 0.0228 - val_precision_1: 0.9137 - val_recall_1: 0.8701 - learning_rate: 9.9005e-05\n",
            "Epoch 12/50\n",
            "\u001b[1m1150/1159\u001b[0m \u001b[32m━━━━━━━━━━━━━━━━━━━\u001b[0m\u001b[37m━\u001b[0m \u001b[1m0s\u001b[0m 5ms/step - accuracy: 0.8768 - loss: 0.0191 - precision_1: 0.9153 - recall_1: 0.8207\n",
            "Epoch 12: val_loss improved from 0.02276 to 0.02074, saving model to /content/checkpoints/best_weights.weights.h5\n",
            "\u001b[1m1159/1159\u001b[0m \u001b[32m━━━━━━━━━━━━━━━━━━━━\u001b[0m\u001b[37m\u001b[0m \u001b[1m7s\u001b[0m 6ms/step - accuracy: 0.8769 - loss: 0.0191 - precision_1: 0.9153 - recall_1: 0.8208 - val_accuracy: 0.9095 - val_loss: 0.0207 - val_precision_1: 0.9265 - val_recall_1: 0.8909 - learning_rate: 9.8020e-05\n",
            "Epoch 13/50\n",
            "\u001b[1m1159/1159\u001b[0m \u001b[32m━━━━━━━━━━━━━━━━━━━━\u001b[0m\u001b[37m\u001b[0m \u001b[1m0s\u001b[0m 5ms/step - accuracy: 0.8937 - loss: 0.0167 - precision_1: 0.9231 - recall_1: 0.8410\n",
            "Epoch 13: val_loss did not improve from 0.02074\n",
            "\u001b[1m1159/1159\u001b[0m \u001b[32m━━━━━━━━━━━━━━━━━━━━\u001b[0m\u001b[37m\u001b[0m \u001b[1m7s\u001b[0m 6ms/step - accuracy: 0.8937 - loss: 0.0167 - precision_1: 0.9231 - recall_1: 0.8410 - val_accuracy: 0.9076 - val_loss: 0.0211 - val_precision_1: 0.9250 - val_recall_1: 0.8880 - learning_rate: 9.7045e-05\n",
            "Epoch 14/50\n",
            "\u001b[1m1156/1159\u001b[0m \u001b[32m━━━━━━━━━━━━━━━━━━━\u001b[0m\u001b[37m━\u001b[0m \u001b[1m0s\u001b[0m 5ms/step - accuracy: 0.9032 - loss: 0.0152 - precision_1: 0.9299 - recall_1: 0.8565\n",
            "Epoch 14: val_loss improved from 0.02074 to 0.01741, saving model to /content/checkpoints/best_weights.weights.h5\n",
            "\u001b[1m1159/1159\u001b[0m \u001b[32m━━━━━━━━━━━━━━━━━━━━\u001b[0m\u001b[37m\u001b[0m \u001b[1m7s\u001b[0m 6ms/step - accuracy: 0.9032 - loss: 0.0152 - precision_1: 0.9299 - recall_1: 0.8565 - val_accuracy: 0.9220 - val_loss: 0.0174 - val_precision_1: 0.9380 - val_recall_1: 0.9081 - learning_rate: 9.6079e-05\n",
            "Epoch 15/50\n",
            "\u001b[1m1151/1159\u001b[0m \u001b[32m━━━━━━━━━━━━━━━━━━━\u001b[0m\u001b[37m━\u001b[0m \u001b[1m0s\u001b[0m 5ms/step - accuracy: 0.9122 - loss: 0.0139 - precision_1: 0.9342 - recall_1: 0.8708\n",
            "Epoch 15: val_loss improved from 0.01741 to 0.01520, saving model to /content/checkpoints/best_weights.weights.h5\n",
            "\u001b[1m1159/1159\u001b[0m \u001b[32m━━━━━━━━━━━━━━━━━━━━\u001b[0m\u001b[37m\u001b[0m \u001b[1m7s\u001b[0m 6ms/step - accuracy: 0.9122 - loss: 0.0139 - precision_1: 0.9342 - recall_1: 0.8708 - val_accuracy: 0.9257 - val_loss: 0.0152 - val_precision_1: 0.9353 - val_recall_1: 0.9117 - learning_rate: 9.5123e-05\n",
            "Epoch 16/50\n",
            "\u001b[1m1151/1159\u001b[0m \u001b[32m━━━━━━━━━━━━━━━━━━━\u001b[0m\u001b[37m━\u001b[0m \u001b[1m0s\u001b[0m 5ms/step - accuracy: 0.9167 - loss: 0.0132 - precision_1: 0.9366 - recall_1: 0.8772\n",
            "Epoch 16: val_loss improved from 0.01520 to 0.01455, saving model to /content/checkpoints/best_weights.weights.h5\n",
            "\u001b[1m1159/1159\u001b[0m \u001b[32m━━━━━━━━━━━━━━━━━━━━\u001b[0m\u001b[37m\u001b[0m \u001b[1m7s\u001b[0m 6ms/step - accuracy: 0.9167 - loss: 0.0132 - precision_1: 0.9367 - recall_1: 0.8772 - val_accuracy: 0.9281 - val_loss: 0.0146 - val_precision_1: 0.9407 - val_recall_1: 0.9140 - learning_rate: 9.4176e-05\n",
            "Epoch 17/50\n",
            "\u001b[1m1159/1159\u001b[0m \u001b[32m━━━━━━━━━━━━━━━━━━━━\u001b[0m\u001b[37m\u001b[0m \u001b[1m0s\u001b[0m 5ms/step - accuracy: 0.9254 - loss: 0.0121 - precision_1: 0.9447 - recall_1: 0.8903\n",
            "Epoch 17: val_loss did not improve from 0.01455\n",
            "\u001b[1m1159/1159\u001b[0m \u001b[32m━━━━━━━━━━━━━━━━━━━━\u001b[0m\u001b[37m\u001b[0m \u001b[1m7s\u001b[0m 6ms/step - accuracy: 0.9254 - loss: 0.0121 - precision_1: 0.9447 - recall_1: 0.8903 - val_accuracy: 0.9195 - val_loss: 0.0159 - val_precision_1: 0.9332 - val_recall_1: 0.9089 - learning_rate: 9.3239e-05\n",
            "Epoch 18/50\n",
            "\u001b[1m1155/1159\u001b[0m \u001b[32m━━━━━━━━━━━━━━━━━━━\u001b[0m\u001b[37m━\u001b[0m \u001b[1m0s\u001b[0m 5ms/step - accuracy: 0.9283 - loss: 0.0114 - precision_1: 0.9469 - recall_1: 0.8972\n",
            "Epoch 18: val_loss improved from 0.01455 to 0.01355, saving model to /content/checkpoints/best_weights.weights.h5\n",
            "\u001b[1m1159/1159\u001b[0m \u001b[32m━━━━━━━━━━━━━━━━━━━━\u001b[0m\u001b[37m\u001b[0m \u001b[1m7s\u001b[0m 6ms/step - accuracy: 0.9283 - loss: 0.0114 - precision_1: 0.9469 - recall_1: 0.8972 - val_accuracy: 0.9312 - val_loss: 0.0135 - val_precision_1: 0.9401 - val_recall_1: 0.9202 - learning_rate: 9.2312e-05\n",
            "Epoch 19/50\n",
            "\u001b[1m1150/1159\u001b[0m \u001b[32m━━━━━━━━━━━━━━━━━━━\u001b[0m\u001b[37m━\u001b[0m \u001b[1m0s\u001b[0m 5ms/step - accuracy: 0.9379 - loss: 0.0100 - precision_1: 0.9521 - recall_1: 0.9092\n",
            "Epoch 19: val_loss did not improve from 0.01355\n",
            "\u001b[1m1159/1159\u001b[0m \u001b[32m━━━━━━━━━━━━━━━━━━━━\u001b[0m\u001b[37m\u001b[0m \u001b[1m7s\u001b[0m 6ms/step - accuracy: 0.9378 - loss: 0.0100 - precision_1: 0.9521 - recall_1: 0.9092 - val_accuracy: 0.9306 - val_loss: 0.0146 - val_precision_1: 0.9433 - val_recall_1: 0.9195 - learning_rate: 9.1393e-05\n",
            "Epoch 20/50\n",
            "\u001b[1m1157/1159\u001b[0m \u001b[32m━━━━━━━━━━━━━━━━━━━\u001b[0m\u001b[37m━\u001b[0m \u001b[1m0s\u001b[0m 5ms/step - accuracy: 0.9425 - loss: 0.0096 - precision_1: 0.9529 - recall_1: 0.9149\n",
            "Epoch 20: val_loss improved from 0.01355 to 0.01315, saving model to /content/checkpoints/best_weights.weights.h5\n",
            "\u001b[1m1159/1159\u001b[0m \u001b[32m━━━━━━━━━━━━━━━━━━━━\u001b[0m\u001b[37m\u001b[0m \u001b[1m7s\u001b[0m 6ms/step - accuracy: 0.9424 - loss: 0.0096 - precision_1: 0.9529 - recall_1: 0.9149 - val_accuracy: 0.9330 - val_loss: 0.0131 - val_precision_1: 0.9415 - val_recall_1: 0.9211 - learning_rate: 9.0484e-05\n",
            "Epoch 21/50\n",
            "\u001b[1m1159/1159\u001b[0m \u001b[32m━━━━━━━━━━━━━━━━━━━━\u001b[0m\u001b[37m\u001b[0m \u001b[1m0s\u001b[0m 5ms/step - accuracy: 0.9460 - loss: 0.0089 - precision_1: 0.9578 - recall_1: 0.9197\n",
            "Epoch 21: val_loss improved from 0.01315 to 0.01166, saving model to /content/checkpoints/best_weights.weights.h5\n",
            "\u001b[1m1159/1159\u001b[0m \u001b[32m━━━━━━━━━━━━━━━━━━━━\u001b[0m\u001b[37m\u001b[0m \u001b[1m7s\u001b[0m 6ms/step - accuracy: 0.9460 - loss: 0.0089 - precision_1: 0.9578 - recall_1: 0.9197 - val_accuracy: 0.9380 - val_loss: 0.0117 - val_precision_1: 0.9458 - val_recall_1: 0.9321 - learning_rate: 8.9583e-05\n",
            "Epoch 22/50\n",
            "\u001b[1m1151/1159\u001b[0m \u001b[32m━━━━━━━━━━━━━━━━━━━\u001b[0m\u001b[37m━\u001b[0m \u001b[1m0s\u001b[0m 5ms/step - accuracy: 0.9486 - loss: 0.0085 - precision_1: 0.9567 - recall_1: 0.9256\n",
            "Epoch 22: val_loss improved from 0.01166 to 0.01112, saving model to /content/checkpoints/best_weights.weights.h5\n",
            "\u001b[1m1159/1159\u001b[0m \u001b[32m━━━━━━━━━━━━━━━━━━━━\u001b[0m\u001b[37m\u001b[0m \u001b[1m7s\u001b[0m 6ms/step - accuracy: 0.9486 - loss: 0.0085 - precision_1: 0.9567 - recall_1: 0.9256 - val_accuracy: 0.9383 - val_loss: 0.0111 - val_precision_1: 0.9444 - val_recall_1: 0.9334 - learning_rate: 8.8692e-05\n",
            "Epoch 23/50\n",
            "\u001b[1m1155/1159\u001b[0m \u001b[32m━━━━━━━━━━━━━━━━━━━\u001b[0m\u001b[37m━\u001b[0m \u001b[1m0s\u001b[0m 5ms/step - accuracy: 0.9530 - loss: 0.0079 - precision_1: 0.9628 - recall_1: 0.9303\n",
            "Epoch 23: val_loss did not improve from 0.01112\n",
            "\u001b[1m1159/1159\u001b[0m \u001b[32m━━━━━━━━━━━━━━━━━━━━\u001b[0m\u001b[37m\u001b[0m \u001b[1m7s\u001b[0m 6ms/step - accuracy: 0.9530 - loss: 0.0079 - precision_1: 0.9628 - recall_1: 0.9303 - val_accuracy: 0.9370 - val_loss: 0.0115 - val_precision_1: 0.9421 - val_recall_1: 0.9299 - learning_rate: 8.7810e-05\n",
            "Epoch 24/50\n",
            "\u001b[1m1151/1159\u001b[0m \u001b[32m━━━━━━━━━━━━━━━━━━━\u001b[0m\u001b[37m━\u001b[0m \u001b[1m0s\u001b[0m 5ms/step - accuracy: 0.9553 - loss: 0.0075 - precision_1: 0.9650 - recall_1: 0.9358\n",
            "Epoch 24: val_loss did not improve from 0.01112\n",
            "\u001b[1m1159/1159\u001b[0m \u001b[32m━━━━━━━━━━━━━━━━━━━━\u001b[0m\u001b[37m\u001b[0m \u001b[1m7s\u001b[0m 6ms/step - accuracy: 0.9553 - loss: 0.0075 - precision_1: 0.9650 - recall_1: 0.9358 - val_accuracy: 0.9398 - val_loss: 0.0114 - val_precision_1: 0.9472 - val_recall_1: 0.9345 - learning_rate: 8.6936e-05\n",
            "Epoch 25/50\n",
            "\u001b[1m1157/1159\u001b[0m \u001b[32m━━━━━━━━━━━━━━━━━━━\u001b[0m\u001b[37m━\u001b[0m \u001b[1m0s\u001b[0m 5ms/step - accuracy: 0.9552 - loss: 0.0072 - precision_1: 0.9633 - recall_1: 0.9339\n",
            "Epoch 25: val_loss improved from 0.01112 to 0.01026, saving model to /content/checkpoints/best_weights.weights.h5\n",
            "\u001b[1m1159/1159\u001b[0m \u001b[32m━━━━━━━━━━━━━━━━━━━━\u001b[0m\u001b[37m\u001b[0m \u001b[1m7s\u001b[0m 6ms/step - accuracy: 0.9552 - loss: 0.0072 - precision_1: 0.9633 - recall_1: 0.9339 - val_accuracy: 0.9421 - val_loss: 0.0103 - val_precision_1: 0.9479 - val_recall_1: 0.9384 - learning_rate: 8.6071e-05\n",
            "Epoch 26/50\n",
            "\u001b[1m1150/1159\u001b[0m \u001b[32m━━━━━━━━━━━━━━━━━━━\u001b[0m\u001b[37m━\u001b[0m \u001b[1m0s\u001b[0m 5ms/step - accuracy: 0.9616 - loss: 0.0064 - precision_1: 0.9686 - recall_1: 0.9451\n",
            "Epoch 26: val_loss improved from 0.01026 to 0.01015, saving model to /content/checkpoints/best_weights.weights.h5\n",
            "\u001b[1m1159/1159\u001b[0m \u001b[32m━━━━━━━━━━━━━━━━━━━━\u001b[0m\u001b[37m\u001b[0m \u001b[1m7s\u001b[0m 6ms/step - accuracy: 0.9616 - loss: 0.0064 - precision_1: 0.9686 - recall_1: 0.9451 - val_accuracy: 0.9426 - val_loss: 0.0102 - val_precision_1: 0.9475 - val_recall_1: 0.9382 - learning_rate: 8.5214e-05\n",
            "Epoch 27/50\n",
            "\u001b[1m1151/1159\u001b[0m \u001b[32m━━━━━━━━━━━━━━━━━━━\u001b[0m\u001b[37m━\u001b[0m \u001b[1m0s\u001b[0m 5ms/step - accuracy: 0.9633 - loss: 0.0062 - precision_1: 0.9692 - recall_1: 0.9468\n",
            "Epoch 27: val_loss did not improve from 0.01015\n",
            "\u001b[1m1159/1159\u001b[0m \u001b[32m━━━━━━━━━━━━━━━━━━━━\u001b[0m\u001b[37m\u001b[0m \u001b[1m7s\u001b[0m 6ms/step - accuracy: 0.9633 - loss: 0.0063 - precision_1: 0.9692 - recall_1: 0.9468 - val_accuracy: 0.9368 - val_loss: 0.0106 - val_precision_1: 0.9412 - val_recall_1: 0.9338 - learning_rate: 8.4366e-05\n",
            "Epoch 28/50\n",
            "\u001b[1m1159/1159\u001b[0m \u001b[32m━━━━━━━━━━━━━━━━━━━━\u001b[0m\u001b[37m\u001b[0m \u001b[1m0s\u001b[0m 5ms/step - accuracy: 0.9672 - loss: 0.0057 - precision_1: 0.9726 - recall_1: 0.9512\n",
            "Epoch 28: val_loss improved from 0.01015 to 0.00920, saving model to /content/checkpoints/best_weights.weights.h5\n",
            "\u001b[1m1159/1159\u001b[0m \u001b[32m━━━━━━━━━━━━━━━━━━━━\u001b[0m\u001b[37m\u001b[0m \u001b[1m7s\u001b[0m 6ms/step - accuracy: 0.9672 - loss: 0.0057 - precision_1: 0.9726 - recall_1: 0.9512 - val_accuracy: 0.9505 - val_loss: 0.0092 - val_precision_1: 0.9545 - val_recall_1: 0.9464 - learning_rate: 8.3527e-05\n",
            "Epoch 29/50\n",
            "\u001b[1m1158/1159\u001b[0m \u001b[32m━━━━━━━━━━━━━━━━━━━\u001b[0m\u001b[37m━\u001b[0m \u001b[1m0s\u001b[0m 5ms/step - accuracy: 0.9709 - loss: 0.0053 - precision_1: 0.9737 - recall_1: 0.9549\n",
            "Epoch 29: val_loss did not improve from 0.00920\n",
            "\u001b[1m1159/1159\u001b[0m \u001b[32m━━━━━━━━━━━━━━━━━━━━\u001b[0m\u001b[37m\u001b[0m \u001b[1m7s\u001b[0m 6ms/step - accuracy: 0.9709 - loss: 0.0053 - precision_1: 0.9737 - recall_1: 0.9549 - val_accuracy: 0.9398 - val_loss: 0.0105 - val_precision_1: 0.9457 - val_recall_1: 0.9358 - learning_rate: 8.2696e-05\n",
            "Epoch 30/50\n",
            "\u001b[1m1154/1159\u001b[0m \u001b[32m━━━━━━━━━━━━━━━━━━━\u001b[0m\u001b[37m━\u001b[0m \u001b[1m0s\u001b[0m 5ms/step - accuracy: 0.9695 - loss: 0.0053 - precision_1: 0.9741 - recall_1: 0.9550\n",
            "Epoch 30: val_loss did not improve from 0.00920\n",
            "\u001b[1m1159/1159\u001b[0m \u001b[32m━━━━━━━━━━━━━━━━━━━━\u001b[0m\u001b[37m\u001b[0m \u001b[1m7s\u001b[0m 6ms/step - accuracy: 0.9695 - loss: 0.0053 - precision_1: 0.9741 - recall_1: 0.9550 - val_accuracy: 0.9455 - val_loss: 0.0092 - val_precision_1: 0.9491 - val_recall_1: 0.9432 - learning_rate: 8.1873e-05\n",
            "Epoch 31/50\n",
            "\u001b[1m1156/1159\u001b[0m \u001b[32m━━━━━━━━━━━━━━━━━━━\u001b[0m\u001b[37m━\u001b[0m \u001b[1m0s\u001b[0m 5ms/step - accuracy: 0.9688 - loss: 0.0053 - precision_1: 0.9737 - recall_1: 0.9560\n",
            "Epoch 31: val_loss did not improve from 0.00920\n",
            "\u001b[1m1159/1159\u001b[0m \u001b[32m━━━━━━━━━━━━━━━━━━━━\u001b[0m\u001b[37m\u001b[0m \u001b[1m7s\u001b[0m 6ms/step - accuracy: 0.9688 - loss: 0.0053 - precision_1: 0.9737 - recall_1: 0.9560 - val_accuracy: 0.9429 - val_loss: 0.0098 - val_precision_1: 0.9457 - val_recall_1: 0.9431 - learning_rate: 8.1058e-05\n",
            "Epoch 32/50\n",
            "\u001b[1m1158/1159\u001b[0m \u001b[32m━━━━━━━━━━━━━━━━━━━\u001b[0m\u001b[37m━\u001b[0m \u001b[1m0s\u001b[0m 5ms/step - accuracy: 0.9717 - loss: 0.0051 - precision_1: 0.9759 - recall_1: 0.9585\n",
            "Epoch 32: val_loss improved from 0.00920 to 0.00846, saving model to /content/checkpoints/best_weights.weights.h5\n",
            "\u001b[1m1159/1159\u001b[0m \u001b[32m━━━━━━━━━━━━━━━━━━━━\u001b[0m\u001b[37m\u001b[0m \u001b[1m7s\u001b[0m 6ms/step - accuracy: 0.9717 - loss: 0.0051 - precision_1: 0.9759 - recall_1: 0.9585 - val_accuracy: 0.9520 - val_loss: 0.0085 - val_precision_1: 0.9544 - val_recall_1: 0.9491 - learning_rate: 8.0252e-05\n",
            "Epoch 33/50\n",
            "\u001b[1m1155/1159\u001b[0m \u001b[32m━━━━━━━━━━━━━━━━━━━\u001b[0m\u001b[37m━\u001b[0m \u001b[1m0s\u001b[0m 5ms/step - accuracy: 0.9717 - loss: 0.0049 - precision_1: 0.9747 - recall_1: 0.9590\n",
            "Epoch 33: val_loss did not improve from 0.00846\n",
            "\u001b[1m1159/1159\u001b[0m \u001b[32m━━━━━━━━━━━━━━━━━━━━\u001b[0m\u001b[37m\u001b[0m \u001b[1m7s\u001b[0m 6ms/step - accuracy: 0.9717 - loss: 0.0049 - precision_1: 0.9747 - recall_1: 0.9590 - val_accuracy: 0.9476 - val_loss: 0.0089 - val_precision_1: 0.9512 - val_recall_1: 0.9455 - learning_rate: 7.9453e-05\n",
            "Epoch 34/50\n",
            "\u001b[1m1159/1159\u001b[0m \u001b[32m━━━━━━━━━━━━━━━━━━━━\u001b[0m\u001b[37m\u001b[0m \u001b[1m0s\u001b[0m 5ms/step - accuracy: 0.9755 - loss: 0.0044 - precision_1: 0.9772 - recall_1: 0.9632\n",
            "Epoch 34: val_loss did not improve from 0.00846\n",
            "\u001b[1m1159/1159\u001b[0m \u001b[32m━━━━━━━━━━━━━━━━━━━━\u001b[0m\u001b[37m\u001b[0m \u001b[1m7s\u001b[0m 6ms/step - accuracy: 0.9755 - loss: 0.0044 - precision_1: 0.9772 - recall_1: 0.9632 - val_accuracy: 0.9445 - val_loss: 0.0092 - val_precision_1: 0.9496 - val_recall_1: 0.9418 - learning_rate: 7.8663e-05\n",
            "Epoch 35/50\n",
            "\u001b[1m1151/1159\u001b[0m \u001b[32m━━━━━━━━━━━━━━━━━━━\u001b[0m\u001b[37m━\u001b[0m \u001b[1m0s\u001b[0m 5ms/step - accuracy: 0.9749 - loss: 0.0043 - precision_1: 0.9777 - recall_1: 0.9636\n",
            "Epoch 35: val_loss did not improve from 0.00846\n",
            "\u001b[1m1159/1159\u001b[0m \u001b[32m━━━━━━━━━━━━━━━━━━━━\u001b[0m\u001b[37m\u001b[0m \u001b[1m7s\u001b[0m 6ms/step - accuracy: 0.9749 - loss: 0.0043 - precision_1: 0.9777 - recall_1: 0.9636 - val_accuracy: 0.9459 - val_loss: 0.0090 - val_precision_1: 0.9476 - val_recall_1: 0.9444 - learning_rate: 7.7880e-05\n",
            "Epoch 36/50\n",
            "\u001b[1m1153/1159\u001b[0m \u001b[32m━━━━━━━━━━━━━━━━━━━\u001b[0m\u001b[37m━\u001b[0m \u001b[1m0s\u001b[0m 5ms/step - accuracy: 0.9767 - loss: 0.0042 - precision_1: 0.9798 - recall_1: 0.9668\n",
            "Epoch 36: val_loss did not improve from 0.00846\n",
            "\u001b[1m1159/1159\u001b[0m \u001b[32m━━━━━━━━━━━━━━━━━━━━\u001b[0m\u001b[37m\u001b[0m \u001b[1m7s\u001b[0m 6ms/step - accuracy: 0.9767 - loss: 0.0042 - precision_1: 0.9798 - recall_1: 0.9668 - val_accuracy: 0.9453 - val_loss: 0.0087 - val_precision_1: 0.9496 - val_recall_1: 0.9437 - learning_rate: 7.7105e-05\n",
            "Epoch 37/50\n",
            "\u001b[1m1158/1159\u001b[0m \u001b[32m━━━━━━━━━━━━━━━━━━━\u001b[0m\u001b[37m━\u001b[0m \u001b[1m0s\u001b[0m 6ms/step - accuracy: 0.9774 - loss: 0.0040 - precision_1: 0.9796 - recall_1: 0.9676\n",
            "Epoch 37: val_loss did not improve from 0.00846\n",
            "\u001b[1m1159/1159\u001b[0m \u001b[32m━━━━━━━━━━━━━━━━━━━━\u001b[0m\u001b[37m\u001b[0m \u001b[1m7s\u001b[0m 6ms/step - accuracy: 0.9774 - loss: 0.0040 - precision_1: 0.9796 - recall_1: 0.9676 - val_accuracy: 0.9437 - val_loss: 0.0100 - val_precision_1: 0.9469 - val_recall_1: 0.9417 - learning_rate: 7.6338e-05\n",
            "Epoch 38/50\n",
            "\u001b[1m1157/1159\u001b[0m \u001b[32m━━━━━━━━━━━━━━━━━━━\u001b[0m\u001b[37m━\u001b[0m \u001b[1m0s\u001b[0m 6ms/step - accuracy: 0.9814 - loss: 0.0034 - precision_1: 0.9836 - recall_1: 0.9717\n",
            "Epoch 38: val_loss improved from 0.00846 to 0.00789, saving model to /content/checkpoints/best_weights.weights.h5\n",
            "\u001b[1m1159/1159\u001b[0m \u001b[32m━━━━━━━━━━━━━━━━━━━━\u001b[0m\u001b[37m\u001b[0m \u001b[1m7s\u001b[0m 6ms/step - accuracy: 0.9814 - loss: 0.0034 - precision_1: 0.9836 - recall_1: 0.9717 - val_accuracy: 0.9541 - val_loss: 0.0079 - val_precision_1: 0.9569 - val_recall_1: 0.9528 - learning_rate: 7.5578e-05\n",
            "Epoch 39/50\n",
            "\u001b[1m1153/1159\u001b[0m \u001b[32m━━━━━━━━━━━━━━━━━━━\u001b[0m\u001b[37m━\u001b[0m \u001b[1m0s\u001b[0m 6ms/step - accuracy: 0.9809 - loss: 0.0034 - precision_1: 0.9827 - recall_1: 0.9721\n",
            "Epoch 39: val_loss did not improve from 0.00789\n",
            "\u001b[1m1159/1159\u001b[0m \u001b[32m━━━━━━━━━━━━━━━━━━━━\u001b[0m\u001b[37m\u001b[0m \u001b[1m7s\u001b[0m 6ms/step - accuracy: 0.9809 - loss: 0.0034 - precision_1: 0.9827 - recall_1: 0.9721 - val_accuracy: 0.9471 - val_loss: 0.0091 - val_precision_1: 0.9507 - val_recall_1: 0.9444 - learning_rate: 7.4826e-05\n",
            "Epoch 40/50\n",
            "\u001b[1m1158/1159\u001b[0m \u001b[32m━━━━━━━━━━━━━━━━━━━\u001b[0m\u001b[37m━\u001b[0m \u001b[1m0s\u001b[0m 6ms/step - accuracy: 0.9805 - loss: 0.0034 - precision_1: 0.9830 - recall_1: 0.9714\n",
            "Epoch 40: val_loss did not improve from 0.00789\n",
            "\u001b[1m1159/1159\u001b[0m \u001b[32m━━━━━━━━━━━━━━━━━━━━\u001b[0m\u001b[37m\u001b[0m \u001b[1m7s\u001b[0m 6ms/step - accuracy: 0.9805 - loss: 0.0034 - precision_1: 0.9830 - recall_1: 0.9714 - val_accuracy: 0.9520 - val_loss: 0.0082 - val_precision_1: 0.9546 - val_recall_1: 0.9500 - learning_rate: 7.4082e-05\n",
            "Epoch 41/50\n",
            "\u001b[1m1157/1159\u001b[0m \u001b[32m━━━━━━━━━━━━━━━━━━━\u001b[0m\u001b[37m━\u001b[0m \u001b[1m0s\u001b[0m 6ms/step - accuracy: 0.9834 - loss: 0.0029 - precision_1: 0.9842 - recall_1: 0.9771\n",
            "Epoch 41: val_loss did not improve from 0.00789\n",
            "\u001b[1m1159/1159\u001b[0m \u001b[32m━━━━━━━━━━━━━━━━━━━━\u001b[0m\u001b[37m\u001b[0m \u001b[1m7s\u001b[0m 6ms/step - accuracy: 0.9834 - loss: 0.0029 - precision_1: 0.9842 - recall_1: 0.9771 - val_accuracy: 0.9518 - val_loss: 0.0082 - val_precision_1: 0.9545 - val_recall_1: 0.9506 - learning_rate: 7.3345e-05\n",
            "Epoch 42/50\n",
            "\u001b[1m1151/1159\u001b[0m \u001b[32m━━━━━━━━━━━━━━━━━━━\u001b[0m\u001b[37m━\u001b[0m \u001b[1m0s\u001b[0m 6ms/step - accuracy: 0.9824 - loss: 0.0033 - precision_1: 0.9844 - recall_1: 0.9732\n",
            "Epoch 42: val_loss did not improve from 0.00789\n",
            "\u001b[1m1159/1159\u001b[0m \u001b[32m━━━━━━━━━━━━━━━━━━━━\u001b[0m\u001b[37m\u001b[0m \u001b[1m7s\u001b[0m 6ms/step - accuracy: 0.9824 - loss: 0.0033 - precision_1: 0.9844 - recall_1: 0.9731 - val_accuracy: 0.9549 - val_loss: 0.0080 - val_precision_1: 0.9561 - val_recall_1: 0.9532 - learning_rate: 7.2615e-05\n",
            "Epoch 43/50\n",
            "\u001b[1m1153/1159\u001b[0m \u001b[32m━━━━━━━━━━━━━━━━━━━\u001b[0m\u001b[37m━\u001b[0m \u001b[1m0s\u001b[0m 5ms/step - accuracy: 0.9841 - loss: 0.0029 - precision_1: 0.9863 - recall_1: 0.9760\n",
            "Epoch 43: val_loss improved from 0.00789 to 0.00750, saving model to /content/checkpoints/best_weights.weights.h5\n",
            "\u001b[1m1159/1159\u001b[0m \u001b[32m━━━━━━━━━━━━━━━━━━━━\u001b[0m\u001b[37m\u001b[0m \u001b[1m7s\u001b[0m 6ms/step - accuracy: 0.9841 - loss: 0.0029 - precision_1: 0.9863 - recall_1: 0.9759 - val_accuracy: 0.9562 - val_loss: 0.0075 - val_precision_1: 0.9596 - val_recall_1: 0.9552 - learning_rate: 7.1892e-05\n",
            "Epoch 44/50\n",
            "\u001b[1m1153/1159\u001b[0m \u001b[32m━━━━━━━━━━━━━━━━━━━\u001b[0m\u001b[37m━\u001b[0m \u001b[1m0s\u001b[0m 6ms/step - accuracy: 0.9837 - loss: 0.0032 - precision_1: 0.9849 - recall_1: 0.9758\n",
            "Epoch 44: val_loss did not improve from 0.00750\n",
            "\u001b[1m1159/1159\u001b[0m \u001b[32m━━━━━━━━━━━━━━━━━━━━\u001b[0m\u001b[37m\u001b[0m \u001b[1m7s\u001b[0m 6ms/step - accuracy: 0.9837 - loss: 0.0032 - precision_1: 0.9849 - recall_1: 0.9758 - val_accuracy: 0.9536 - val_loss: 0.0080 - val_precision_1: 0.9547 - val_recall_1: 0.9527 - learning_rate: 7.1177e-05\n",
            "Epoch 45/50\n",
            "\u001b[1m1152/1159\u001b[0m \u001b[32m━━━━━━━━━━━━━━━━━━━\u001b[0m\u001b[37m━\u001b[0m \u001b[1m0s\u001b[0m 6ms/step - accuracy: 0.9850 - loss: 0.0028 - precision_1: 0.9860 - recall_1: 0.9786\n",
            "Epoch 45: val_loss did not improve from 0.00750\n",
            "\u001b[1m1159/1159\u001b[0m \u001b[32m━━━━━━━━━━━━━━━━━━━━\u001b[0m\u001b[37m\u001b[0m \u001b[1m7s\u001b[0m 6ms/step - accuracy: 0.9850 - loss: 0.0028 - precision_1: 0.9860 - recall_1: 0.9786 - val_accuracy: 0.9560 - val_loss: 0.0076 - val_precision_1: 0.9586 - val_recall_1: 0.9537 - learning_rate: 7.0469e-05\n",
            "Epoch 46/50\n",
            "\u001b[1m1153/1159\u001b[0m \u001b[32m━━━━━━━━━━━━━━━━━━━\u001b[0m\u001b[37m━\u001b[0m \u001b[1m0s\u001b[0m 6ms/step - accuracy: 0.9862 - loss: 0.0028 - precision_1: 0.9871 - recall_1: 0.9789\n",
            "Epoch 46: val_loss did not improve from 0.00750\n",
            "\u001b[1m1159/1159\u001b[0m \u001b[32m━━━━━━━━━━━━━━━━━━━━\u001b[0m\u001b[37m\u001b[0m \u001b[1m7s\u001b[0m 6ms/step - accuracy: 0.9862 - loss: 0.0028 - precision_1: 0.9872 - recall_1: 0.9789 - val_accuracy: 0.9543 - val_loss: 0.0077 - val_precision_1: 0.9563 - val_recall_1: 0.9543 - learning_rate: 6.9768e-05\n",
            "Epoch 47/50\n",
            "\u001b[1m1157/1159\u001b[0m \u001b[32m━━━━━━━━━━━━━━━━━━━\u001b[0m\u001b[37m━\u001b[0m \u001b[1m0s\u001b[0m 6ms/step - accuracy: 0.9849 - loss: 0.0028 - precision_1: 0.9856 - recall_1: 0.9764\n",
            "Epoch 47: val_loss did not improve from 0.00750\n",
            "\u001b[1m1159/1159\u001b[0m \u001b[32m━━━━━━━━━━━━━━━━━━━━\u001b[0m\u001b[37m\u001b[0m \u001b[1m7s\u001b[0m 6ms/step - accuracy: 0.9849 - loss: 0.0028 - precision_1: 0.9856 - recall_1: 0.9764 - val_accuracy: 0.9544 - val_loss: 0.0076 - val_precision_1: 0.9572 - val_recall_1: 0.9510 - learning_rate: 6.9073e-05\n",
            "Epoch 48/50\n",
            "\u001b[1m1158/1159\u001b[0m \u001b[32m━━━━━━━━━━━━━━━━━━━\u001b[0m\u001b[37m━\u001b[0m \u001b[1m0s\u001b[0m 6ms/step - accuracy: 0.9847 - loss: 0.0026 - precision_1: 0.9863 - recall_1: 0.9784\n",
            "Epoch 48: val_loss did not improve from 0.00750\n",
            "\u001b[1m1159/1159\u001b[0m \u001b[32m━━━━━━━━━━━━━━━━━━━━\u001b[0m\u001b[37m\u001b[0m \u001b[1m7s\u001b[0m 6ms/step - accuracy: 0.9847 - loss: 0.0026 - precision_1: 0.9863 - recall_1: 0.9784 - val_accuracy: 0.9531 - val_loss: 0.0081 - val_precision_1: 0.9559 - val_recall_1: 0.9509 - learning_rate: 6.8386e-05\n",
            "Epoch 49/50\n",
            "\u001b[1m1155/1159\u001b[0m \u001b[32m━━━━━━━━━━━━━━━━━━━\u001b[0m\u001b[37m━\u001b[0m \u001b[1m0s\u001b[0m 5ms/step - accuracy: 0.9865 - loss: 0.0025 - precision_1: 0.9858 - recall_1: 0.9794\n",
            "Epoch 49: val_loss did not improve from 0.00750\n",
            "\u001b[1m1159/1159\u001b[0m \u001b[32m━━━━━━━━━━━━━━━━━━━━\u001b[0m\u001b[37m\u001b[0m \u001b[1m7s\u001b[0m 6ms/step - accuracy: 0.9864 - loss: 0.0025 - precision_1: 0.9858 - recall_1: 0.9794 - val_accuracy: 0.9491 - val_loss: 0.0087 - val_precision_1: 0.9527 - val_recall_1: 0.9468 - learning_rate: 6.7706e-05\n",
            "Epoch 50/50\n",
            "\u001b[1m1154/1159\u001b[0m \u001b[32m━━━━━━━━━━━━━━━━━━━\u001b[0m\u001b[37m━\u001b[0m \u001b[1m0s\u001b[0m 5ms/step - accuracy: 0.9873 - loss: 0.0024 - precision_1: 0.9881 - recall_1: 0.9824\n",
            "Epoch 50: val_loss did not improve from 0.00750\n",
            "\u001b[1m1159/1159\u001b[0m \u001b[32m━━━━━━━━━━━━━━━━━━━━\u001b[0m\u001b[37m\u001b[0m \u001b[1m7s\u001b[0m 6ms/step - accuracy: 0.9873 - loss: 0.0024 - precision_1: 0.9881 - recall_1: 0.9824 - val_accuracy: 0.9523 - val_loss: 0.0081 - val_precision_1: 0.9582 - val_recall_1: 0.9511 - learning_rate: 6.7032e-05\n"
          ]
        }
      ]
    },
    {
      "cell_type": "code",
      "source": [
        "# Evaluate the model\n",
        "test_loss, test_accuracy, test_precision, test_recall = model.evaluate(X_test, y_test)\n",
        "print(f\"Test Loss: {test_loss}\")\n",
        "print(f\"Test Accuracy: {test_accuracy}\")\n",
        "print(f\"Test Precision: {test_precision}\")\n",
        "print(f\"Test Recall: {test_recall}\")\n",
        "\n"
      ],
      "metadata": {
        "colab": {
          "base_uri": "https://localhost:8080/"
        },
        "id": "cqv0FCtW_lD8",
        "outputId": "7c8ef86e-bdfc-4d1a-e062-d8ce93f5cc9c"
      },
      "execution_count": null,
      "outputs": [
        {
          "output_type": "stream",
          "name": "stdout",
          "text": [
            "\u001b[1m362/362\u001b[0m \u001b[32m━━━━━━━━━━━━━━━━━━━━\u001b[0m\u001b[37m\u001b[0m \u001b[1m1s\u001b[0m 3ms/step - accuracy: 0.9541 - loss: 0.0076 - precision_1: 0.9550 - recall_1: 0.9546\n",
            "Test Loss: 0.007560383528470993\n",
            "Test Accuracy: 0.9562327265739441\n",
            "Test Precision: 0.9583730101585388\n",
            "Test Recall: 0.955973744392395\n"
          ]
        }
      ]
    },
    {
      "cell_type": "code",
      "source": [
        "# Print out the keys to check the correct names\n",
        "print(\"History keys:\", history.history.keys())\n",
        "\n",
        "# Create a figure for the plots\n",
        "plt.figure(figsize=(10, 4))\n",
        "\n",
        "# Plot Loss\n",
        "plt.subplot(1, 2, 1)\n",
        "plt.plot(history.history['loss'], label='Training Loss', color='blue', linestyle='-', linewidth=2)\n",
        "plt.plot(history.history['val_loss'], label='Validation Loss', color='red', linestyle='--', linewidth=2)\n",
        "plt.title('Loss')\n",
        "plt.xlabel('Epoch')\n",
        "plt.ylabel('Loss')\n",
        "plt.legend()\n",
        "plt.grid(True)\n",
        "\n",
        "# Plot Accuracy\n",
        "plt.subplot(1, 2, 2)\n",
        "plt.plot(history.history['accuracy'], label='Training Accuracy', color='green', linestyle='-', linewidth=2)\n",
        "plt.plot(history.history['val_accuracy'], label='Validation Accuracy', color='orange', linestyle='--', linewidth=2)\n",
        "plt.title('Accuracy')\n",
        "plt.xlabel('Epoch')\n",
        "plt.ylabel('Accuracy')\n",
        "plt.legend()\n",
        "plt.grid(True)\n",
        "\n",
        "# Improve layout\n",
        "plt.tight_layout()\n",
        "plt.show()\n"
      ],
      "metadata": {
        "colab": {
          "base_uri": "https://localhost:8080/",
          "height": 425
        },
        "id": "uTWTv4stAGfi",
        "outputId": "8735d2b4-3ae2-47af-b612-8bb3004dfc81"
      },
      "execution_count": null,
      "outputs": [
        {
          "output_type": "stream",
          "name": "stdout",
          "text": [
            "History keys: dict_keys(['accuracy', 'loss', 'precision_1', 'recall_1', 'val_accuracy', 'val_loss', 'val_precision_1', 'val_recall_1', 'learning_rate'])\n"
          ]
        },
        {
          "output_type": "display_data",
          "data": {
            "text/plain": [
              "<Figure size 1000x400 with 2 Axes>"
            ],
            "image/png": "[encoded data removed]"
          },
          "metadata": {}
        }
      ]
    }
  ]
}